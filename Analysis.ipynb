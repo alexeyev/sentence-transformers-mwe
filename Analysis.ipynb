{
 "cells": [
  {
   "cell_type": "markdown",
   "metadata": {},
   "source": [
    "## Studying what sentence embeddings actually encode and how we can employ that"
   ]
  },
  {
   "cell_type": "code",
   "execution_count": 3,
   "metadata": {},
   "outputs": [
    {
     "name": "stderr",
     "output_type": "stream",
     "text": [
      "[nltk_data] Downloading package punkt to /root/nltk_data...\n",
      "[nltk_data]   Package punkt is already up-to-date!\n",
      "1671807it [06:57, 4004.88it/s]\n"
     ]
    }
   ],
   "source": [
    "import csv\n",
    "import nltk\n",
    "from nltk.tokenize import sent_tokenize\n",
    "from tqdm import tqdm\n",
    "\n",
    "nltk.download('punkt')\n",
    "\n",
    "with open(\"/media/data/datasets/yelp/food/ethnic_food_top10categories.csv\", \"r+\") as rf:\n",
    "    csv_reader = csv.reader(rf)\n",
    "    with open(\"/media/data/datasets/yelp/food/ethnic_food_top10categories-sentences-vectors-attempt2.tsv\", \"w+\") as wf:\n",
    "        for row in tqdm(csv_reader):\n",
    "            for id, sentence in enumerate(sent_tokenize(row[4].replace(\"\\n\", \" \"))):\n",
    "                wf.write(row[2]+ \"\\t\" + str(id) + \"\\t\" + row[3] + \"\\t\" + sentence.strip() + \"\\n\")\n",
    "            wf.write(\"\\n\")"
   ]
  },
  {
   "cell_type": "code",
   "execution_count": 7,
   "metadata": {},
   "outputs": [
    {
     "name": "stdout",
     "output_type": "stream",
     "text": [
      "15473794 /media/data/datasets/yelp/food/ethnic_food_top10categories-sentences-vectors.tsv\n",
      "1.5G -rw-r--r-- 1 root root 1.5G Apr  1 22:28 /media/data/datasets/yelp/food/ethnic_food_top10categories-sentences-vectors.tsv\n"
     ]
    }
   ],
   "source": [
    "! wc -l /media/data/datasets/yelp/food/ethnic_food_top10categories-sentences-vectors.tsv\n",
    "! ls -lsah /media/data/datasets/yelp/food/ethnic_food_top10categories-sentences-vectors.tsv\n",
    "! pip install -q pandas"
   ]
  },
  {
   "cell_type": "code",
   "execution_count": 1,
   "metadata": {},
   "outputs": [],
   "source": [
    "import pandas as pd\n",
    "\n",
    "sentences_file = \"/media/data/datasets/yelp/food/ethnic_food_top10categories-sentences-vectors.tsv\"\n",
    "sentences_file = pd.read_csv(sentences_file, sep=\"\\t\", header=None)\n",
    "sentences_file.columns = [\"review_id\", \"sub_id\", \"categories\", \"text\"]"
   ]
  },
  {
   "cell_type": "code",
   "execution_count": 2,
   "metadata": {},
   "outputs": [
    {
     "data": {
      "text/plain": [
       "(Index(['review_id', 'sub_id', 'categories', 'text'], dtype='object'),\n",
       " (13755767, 4))"
      ]
     },
     "execution_count": 2,
     "metadata": {},
     "output_type": "execute_result"
    }
   ],
   "source": [
    "sentences_file.columns, sentences_file.shape"
   ]
  },
  {
   "cell_type": "code",
   "execution_count": null,
   "metadata": {},
   "outputs": [
    {
     "name": "stderr",
     "output_type": "stream",
     "text": [
      "Batches:  17%|█▋        | 4642/26867 [20:01<2:00:19,  3.08it/s]"
     ]
    }
   ],
   "source": [
    "from sentence_transformers import SentenceTransformer, models\n",
    "import numpy as np\n",
    "from tqdm import tqdm_notebook\n",
    "\n",
    "model = SentenceTransformer(\"bert-base-nli-mean-tokens\")\n",
    "\n",
    "sentences_file[\"embeddings\"] = model.encode(sentences_file.text.str.lower().tolist(), \n",
    "                                            batch_size=512, \n",
    "                                            show_progress_bar=True)"
   ]
  },
  {
   "cell_type": "code",
   "execution_count": null,
   "metadata": {},
   "outputs": [],
   "source": [
    "sentences_file.to_csv(\"/media/data/datasets/yelp/food/ethnic_food_top10categories-sentences-vectors-prepared.tsv\", sep=\"\\t\")"
   ]
  },
  {
   "cell_type": "code",
   "execution_count": null,
   "metadata": {},
   "outputs": [],
   "source": []
  }
 ],
 "metadata": {
  "kernelspec": {
   "display_name": "Python 3",
   "language": "python",
   "name": "python3"
  },
  "language_info": {
   "codemirror_mode": {
    "name": "ipython",
    "version": 3
   },
   "file_extension": ".py",
   "mimetype": "text/x-python",
   "name": "python",
   "nbconvert_exporter": "python",
   "pygments_lexer": "ipython3",
   "version": "3.6.8"
  }
 },
 "nbformat": 4,
 "nbformat_minor": 4
}
